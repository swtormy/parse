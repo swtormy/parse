{
 "cells": [
  {
   "cell_type": "code",
   "execution_count": 57,
   "metadata": {},
   "outputs": [
    {
     "name": "stdout",
     "output_type": "stream",
     "text": [
      "total - 1263 | total_items - 1263. Прогресс 193 из 193                                                                                                \r"
     ]
    }
   ],
   "source": [
    "import glob\n",
    "import json\n",
    "\n",
    "\n",
    "files = glob.glob('data/data_*.json')\n",
    "\n",
    "data = []\n",
    "warn = []\n",
    "\n",
    "# Переберите все файлы\n",
    "for index, filename in enumerate(files):\n",
    "    with open(filename, 'r') as f:\n",
    "        parse_obj = json.load(f)\n",
    "        coordinates = parse_obj['coordinates']\n",
    "        pagination = parse_obj['pagination']\n",
    "        total = pagination['total']\n",
    "        items = parse_obj['items_array']\n",
    "        total_items = len(items)\n",
    "        message = f'Прогресс {index+1} из {len(files)}'\n",
    "        print(message.ljust(150), end='\\r')\n",
    "        if total != total_items:\n",
    "            warn.append({filename: coordinates})\n",
    "        for item in items:\n",
    "            data.append(item)\n",
    "        "
   ]
  },
  {
   "cell_type": "code",
   "execution_count": 68,
   "metadata": {},
   "outputs": [
    {
     "name": "stdout",
     "output_type": "stream",
     "text": [
      "Всего 92677\n",
      "office: 51787 (56%)\n",
      "warehouse: 4902 (5%)\n",
      "free_purpose: 20660 (22%)\n",
      "manufacturing: 2032 (2%)\n",
      "commercial_land: 565 (1%)\n",
      "retail: 12137 (13%)\n",
      "catering: 538 (1%)\n",
      "hotel: 56 (0%)\n"
     ]
    }
   ],
   "source": [
    "from collections import Counter\n",
    "\n",
    "d_types = []\n",
    "for e in data:\n",
    "    d_types.append(e['offer_type'])\n",
    "\n",
    "dictionary = Counter(d_types)\n",
    "print(f'Всего {len(d_types)}')\n",
    "for key, value in dictionary.items():\n",
    "    print(f'{key}: {value} ({round((value / len(d_types))*100)}%)')\n"
   ]
  },
  {
   "cell_type": "code",
   "execution_count": 69,
   "metadata": {},
   "outputs": [],
   "source": [
    "data_for_df = []\n",
    "\n",
    "for d in data:\n",
    "    advertisement = {\n",
    "        'id': d.get('id'),\n",
    "        'category': d.get('category'),\n",
    "        'has_advance_payment': d.get('has_advance_payment'),\n",
    "        'trade_in': d.get('trade_in'),\n",
    "        'description': d.get('description'),\n",
    "        'is_owner': d.get('legal_options', {}).get('is_owner'),\n",
    "        'is_exclusive': d.get('is_exclusive'),\n",
    "        'pessimization': d.get('pessimization', {}).get('pessimized'),\n",
    "        'duplicates_offer_count': d.get('duplicates_offer_count'),\n",
    "        'updated_dt': d.get('updated_dt'),\n",
    "        'published_dt': d.get('published_dt'),\n",
    "        'is_auction': d.get('is_auction'),\n",
    "        'is_placement_paid': d.get('is_placement_paid'),\n",
    "        'chat_available': d.get('chat_available'),\n",
    "        'address': d.get('address', {}).get('display_name'),\n",
    "        'pos_lat': d.get('address', {}).get('position', {}).get('lat'),\n",
    "        'pos_lon': d.get('address', {}).get('position', {}).get('lon'),\n",
    "        'address_id': d.get('address', {}).get('id'),\n",
    "        'address_guid': d.get('address', {}).get('guid'),\n",
    "        'address_kind': d.get('address', {}).get('kind'),\n",
    "        'online_show': d.get('online_show'),\n",
    "        'house_floors': d.get('house', {}).get('floors'),\n",
    "        'source': d.get('source'),\n",
    "        'status': d.get('status'),\n",
    "        'rooms': d.get('object_info', {}).get('rooms'),\n",
    "        'floor': d.get('object_info', {}).get('floor'),\n",
    "        'area': d.get('object_info', {}).get('area'),\n",
    "        'offer_type': d.get('offer_type'),\n",
    "        'seller_full_name': d.get('seller', {}).get('agent', {}).get('full_name'),\n",
    "        'seller_cas_id': d.get('seller', {}).get('agent', {}).get('cas_id'),\n",
    "        'seller_is_agent': d.get('seller', {}).get('agent', {}).get('is_agent'),\n",
    "        'company_id': d.get('seller', {}).get('company', {}).get('id'),\n",
    "        'company_name': d.get('seller', {}).get('company', {}).get('name'),\n",
    "        'deal_type': d.get('deal_type'),\n",
    "        'price': d.get('price_info', {}).get('price'),\n",
    "        'square_price': d.get('price_info', {}).get('square_price'),\n",
    "        'commission': d.get('price_info', {}).get('commission'),\n",
    "        'price_for_year': d.get('price_info', {}).get('price_for_year'),\n",
    "        'square_price_for_year': d.get('price_info', {}).get('square_price_for_year'),\n",
    "        'communal_payments': d.get('price_info', {}).get('communal_payments', {}).get('display_name'),\n",
    "    }\n",
    "    data_for_df.append(advertisement)\n",
    "\n"
   ]
  },
  {
   "cell_type": "code",
   "execution_count": 72,
   "metadata": {},
   "outputs": [],
   "source": [
    "import pandas as pd\n",
    "\n",
    "df = pd.DataFrame(data_for_df)\n",
    "df.to_excel('domclick.xlsx')\n"
   ]
  },
  {
   "cell_type": "code",
   "execution_count": 41,
   "metadata": {},
   "outputs": [],
   "source": [
    "duplicates = df.duplicated(subset='id')\n",
    "for e in duplicates:\n",
    "    if e is True:\n",
    "        print(e)"
   ]
  },
  {
   "cell_type": "code",
   "execution_count": 78,
   "metadata": {},
   "outputs": [
    {
     "name": "stdout",
     "output_type": "stream",
     "text": [
      "has_advance_payment False\n",
      "id 1763287180\n",
      "photos [{'url': '/vitrina/owner/00/fd/00fd859dba5f44b4a541c7040fbd58f7.jpg'}, {'url': '/vitrina/owner/65/07/6507d5d849a446efbcddb76a5bce77d0.jpg'}, {'url': '/vitrina/owner/ba/51/ba51d0328a84425390938f7566770426.jpg'}, {'url': '/vitrina/owner/6d/f8/6df894d42e5b4ac2af2cc93d6161c84e.jpg'}, {'url': '/vitrina/owner/67/09/6709f7b608da43a9ab9a5347d42b4077.jpg'}, {'url': '/vitrina/owner/02/48/0248132c1130421ab3fbf330fa885af0.jpg'}, {'url': '/vitrina/owner/20/5c/205c696e1bd14f8eb137ff535d8422a1.jpg'}]\n",
      "category commercial\n",
      "trade_in False\n",
      "description Сдается в долгосрочную аренду административное здание.Закрытая территория , автоматические ворота. Круглосуточное видеонаблюдение с возможностью удаленного доступа\n",
      ". Внутренняя парковка . Высокие, светлые офисные помещения с прекрасным видом из окна . Индивидуальное отопление , интернет в каждом кабинете установлен кондиционер.Возможна продажа.\n",
      "legal_options {'is_owner': False}\n",
      "is_exclusive False\n",
      "pessimization {'pessimized': False, 'pessimization_type': None}\n",
      "duplicates_offer_count 0\n",
      "discount_status {'status': 'cad_statement_ordered_no_discount', 'value': 0.3}\n",
      "updated_dt 2023-05-24T13:26:49.179106+00:00\n",
      "is_auction False\n",
      "is_placement_paid False\n",
      "published_dt 2023-05-24T13:26:49.151651+00:00\n",
      "chat_available False\n",
      "address {'id': 28112019, 'kind': 'house', 'guid': '42146f02-bd44-49ec-bb4a-458467b8d4b9', 'name': 'улица Льва Толстого, 10', 'display_name': 'Россия, Московская область, Луховицы, улица Льва Толстого, 10', 'position': {'lat': 54.973114, 'lon': 39.044447}, 'locality': {'id': 133699, 'kind': 'locality', 'guid': '3c2cfd93-14db-47e0-83c6-9387d08a60ae', 'name': 'Луховицы', 'display_name': 'Россия, Московская область, Луховицы', 'parent_id': 102505}, 'info': {'timezone': 'Europe/Moscow', 'timezone_offset': 3}, 'short_display_name': 'Московская область, Луховицы, улица Льва Толстого, 10'}\n",
      "online_show False\n",
      "house {'floors': 2}\n",
      "source individual\n",
      "status 2\n",
      "object_info {'rooms': 5, 'floor': 2, 'area': 192.7}\n",
      "last_price_history_state equal\n",
      "seller {'agent': {'achievements': {}, 'phone': '+7 987 *** ** 02', 'full_name': 'Сергей', 'cas_id': 31012989, 'is_agent': False, 'is_sbol_verified': False, 'show_original_phone': True}, 'company': {}}\n",
      "offer_type office\n",
      "seo_info {'display_name_parts': [{'subdomain': 'msk', 'title': 'Московская область', 'seo_uri': '/moskovskaya-oblast', 'guid': '9930cc20-32c6-4f6f-a55e-cd67086c5171'}, {'subdomain': 'msk', 'title': 'Луховицы', 'seo_uri': '/moskovskaya-oblast/gorodskoj-okrug-luhovicy/luhovicy', 'guid': '3c2cfd93-14db-47e0-83c6-9387d08a60ae'}, {'subdomain': 'msk', 'title': 'улица Льва Толстого', 'seo_uri': '/moskovskaya-oblast/gorodskoj-okrug-luhovicy/luhovicy/ulica-lva-tolstogo', 'guid': '357129cc-af83-4a4a-86e7-5da629446fec'}, {'subdomain': 'msk', 'title': '10', 'seo_uri': '/building/moskovskaya-oblast--gorodskoj-okrug-luhovicy--luhovicy--ulica-lva-tolstogo--10', 'is_building': True, 'guid': '42146f02-bd44-49ec-bb4a-458467b8d4b9'}]}\n",
      "price_info {'price': 200000, 'square_price': 1037, 'commission': 0.0, 'communal_payments': {'display_name': 'Не включены'}, 'price_for_year': 2400000.0, 'square_price_for_year': 12454.56}\n",
      "deal_type rent\n"
     ]
    }
   ],
   "source": [
    "for r, v in data[0].items():\n",
    "    print(r, v)"
   ]
  },
  {
   "cell_type": "code",
   "execution_count": null,
   "metadata": {},
   "outputs": [],
   "source": []
  }
 ],
 "metadata": {
  "kernelspec": {
   "display_name": "venv",
   "language": "python",
   "name": "python3"
  },
  "language_info": {
   "codemirror_mode": {
    "name": "ipython",
    "version": 3
   },
   "file_extension": ".py",
   "mimetype": "text/x-python",
   "name": "python",
   "nbconvert_exporter": "python",
   "pygments_lexer": "ipython3",
   "version": "3.10.0"
  },
  "orig_nbformat": 4
 },
 "nbformat": 4,
 "nbformat_minor": 2
}
